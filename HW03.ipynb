{
 "cells": [
  {
   "cell_type": "markdown",
   "metadata": {},
   "source": [
    "## Homework 3 - CS348 Spring 2019"
   ]
  },
  {
   "cell_type": "markdown",
   "metadata": {},
   "source": [
    "**Description** - This assignment is intended to teach you about linear models and naive bayes using python."
   ]
  },
  {
   "cell_type": "markdown",
   "metadata": {},
   "source": [
    "**Getting Started** - You should complete the assignment using your own installation of Python 3 and the packages numpy, pandas, matplotlib, and seaborn. Download the assignment from Moodle and unzip the file. This will create a directory with this file, 'HW03.ipynb', and a 'data' directory. The data files for each data set are in the 'data' directory."
   ]
  },
  {
   "cell_type": "markdown",
   "metadata": {},
   "source": [
    "**Deliverables** - The assignment has a single deliverable: this jupyter notebook file saved as a pdf. Please answer all coding and writing questions in the body of this file. Once all of the answers are complete, download the file by navigating the following menus: File -> Download as -> PDF via LaTeX. Submit the downloaded pdf file on gradescope. Alternatively, you can save the file as a pdf via the following: File -> Print Preview -> Print as pdf.\n",
    "\n",
    "Note: You will be writing the written responses in the same cell block as the coding solution, so make sure to comment out the written responses."
   ]
  },
  {
   "cell_type": "markdown",
   "metadata": {},
   "source": [
    "**Data Sets** - In this assignment, you will run and analyze linear regression on a single synthetic dataset"
   ]
  },
  {
   "cell_type": "markdown",
   "metadata": {},
   "source": [
    "**Academic Honesty Statement** — Copying solutions from external sources (books,\n",
    "web pages, etc.) or other students is considered cheating. Sharing your solutions with\n",
    "other students is considered cheating. Posting your code to public repositories such as\n",
    "GitHub is also considered cheating. Any detected cheating will result in a grade of 0 on\n",
    "the assignment for all students involved, and potentially a grade of F in the course.\n",
    "\n",
    "This academic honesty statement does not restrict you from reading official documentation or using other web resources for understanding the syntax of python, related data science libraries, or properties of distributions."
   ]
  },
  {
   "cell_type": "code",
   "execution_count": 1,
   "metadata": {},
   "outputs": [],
   "source": [
    "# Do not import any other libraries other than those listed here. \n",
    "import numpy as np\n",
    "import pandas as pd\n",
    "import matplotlib.pyplot as plt\n",
    "import sklearn as skl\n",
    "import seaborn as sns\n",
    "\n",
    "from sklearn.linear_model import LinearRegression"
   ]
  },
  {
   "cell_type": "markdown",
   "metadata": {},
   "source": [
    "# Problem 1 - Regression"
   ]
  },
  {
   "cell_type": "markdown",
   "metadata": {},
   "source": [
    "In this problem you'll construct a linear model to analyze a synthetic dataset."
   ]
  },
  {
   "cell_type": "code",
   "execution_count": 2,
   "metadata": {},
   "outputs": [],
   "source": [
    "# Load the data\n",
    "x_train = np.loadtxt('data/x_train.csv', delimiter=',')\n",
    "x_val = np.loadtxt('data/x_val.csv', delimiter=',')\n",
    "y_train = np.loadtxt('data/y_train.csv', delimiter=',')\n",
    "y_val = np.loadtxt('data/y_val.csv', delimiter=',')"
   ]
  },
  {
   "cell_type": "markdown",
   "metadata": {},
   "source": [
    "**Part 1** (16 points)  \n",
    "Using sci-kit learn's `LinearRegression` class, fit a linear regression model between features `x_train` and targets `y_train`. Using this model, produce a new array `y_train_res` which contains the residuals of the learned linear model corresponding to each row in the training dataset."
   ]
  },
  {
   "cell_type": "code",
   "execution_count": 56,
   "metadata": {},
   "outputs": [],
   "source": [
    "# Part 1 Solution\n",
    "\n",
    "# --- write code here ---\n",
    "linr = LinearRegression()\n",
    "linr = linr.fit(x_train,y_train)\n",
    "#residuals of learned linear model for each row in training data\n",
    "y_train_res = np.abs(y_train - linr.predict(x_train))\n",
    "#print(y_train_res)"
   ]
  },
  {
   "cell_type": "markdown",
   "metadata": {},
   "source": [
    "**Part 2** (16 points)  \n",
    "Without using `LinearRegression`'s `score()` method or `sklearn.metrics.r2_score`, compute the R-squared value for the trained model. Does this result imply that the linear regression assumptions are satisfied? Why or why not? Would your answer change if the R-squared were larger?"
   ]
  },
  {
   "cell_type": "code",
   "execution_count": 51,
   "metadata": {},
   "outputs": [
    {
     "name": "stdout",
     "output_type": "stream",
     "text": [
      "R squared value = 0.6612116191209515\n"
     ]
    }
   ],
   "source": [
    "# Part 2 Solution\n",
    "\n",
    "# --- write code here ---\n",
    "#calculate residual sum of squares\n",
    "foo = (y_train - linr.predict(x_train))**2\n",
    "bar = np.sum(foo)\n",
    "#calculate total sum of squares\n",
    "oof=(y_train - np.mean(y_train))**2\n",
    "rab = np.sum(oof)\n",
    "#calculate R squared value 1-(RSS/Tss)\n",
    "score = (1-(bar/rab))\n",
    "print(\"R squared value = \",end='')\n",
    "print(score)\n",
    "#actual score using library methods - DELETE THIS BEFORE SUBMITTING\n",
    "#print(linr.score(x_train,y_train))\n",
    "\n",
    "# --- written response here ---\n",
    "# Since we have an R squared value which is not negative, and greater than 0, we can say that the assumptions of the linear \n",
    "#regression model are satisfied. Particularly, the assumption that the response is a linear combination of the parameters \n",
    "# (the coefficients B1,B2) and predictor values x1,x2.\n",
    "# If the value of R-squared were larger then it would be even more compelling evidence of the data's linear behavior. \n",
    "#However, just because our R-squared is not particularly close to 1 yet does not mean the assumptions we made are wrong, just \n",
    "#that we might find a better fit if we transform the predictor variables. "
   ]
  },
  {
   "cell_type": "markdown",
   "metadata": {},
   "source": [
    "Based on their knowledge of the data generating process, your colleague suggests that a multiple linear regression may be an inappropriate method for analyzing this data. They instead suggest the conditional model `y = B_1 * x_1 + B_2 * f(x_2) + error`, where `y` is the outcome, `B_1` and `B_2` are parameters of the DGP, `x_1` and `x_2` are the first and second column of the dataset, `f()` is some non-linear function, and `error` is some random variable with 0 mean and constant variance."
   ]
  },
  {
   "cell_type": "markdown",
   "metadata": {},
   "source": [
    "**Part 3** (10 points)  \n",
    "Make a residual plot with x_2 on the horizontal axis. Using this residual plot, describe any supporting evidence for your colleague's assumptions about the DGP.\n",
    "\n",
    "Note: Recall the python/pandas is 0-indexed. Therefore, x_2 corresponds to `x_train[:, 1]`."
   ]
  },
  {
   "cell_type": "code",
   "execution_count": 37,
   "metadata": {},
   "outputs": [
    {
     "data": {
      "text/plain": [
       "Text(0, 0.5, 'RSS')"
      ]
     },
     "execution_count": 37,
     "metadata": {},
     "output_type": "execute_result"
    },
    {
     "data": {
      "image/png": "[encoded data removed]",
      "text/plain": [
       "<Figure size 432x288 with 1 Axes>"
      ]
     },
     "metadata": {
      "needs_background": "light"
     },
     "output_type": "display_data"
    }
   ],
   "source": [
    "# Part 3 Solution\n",
    "\n",
    "# --- write code here ---\n",
    "plt.scatter(x_train[:,1],y_train_res)\n",
    "plt.xlabel(\"x_2\")\n",
    "plt.ylabel('RSS')\n",
    "# --- written response here ---\n",
    "# Since x_2 and the residuals do not form a very smooth curve we want to transform x_2 with some function so that it corresponds\n",
    "# to the results better. "
   ]
  },
  {
   "cell_type": "markdown",
   "metadata": {},
   "source": [
    "**Part 4** (30 points)  \n",
    "Using your analysis in parts 1-3 as a guide, determine which of the following functions best represent `f()` in your colleague's conditional model.\n",
    "\n",
    "`f(x) = ln(x)`  \n",
    "`f(x) = exp(x)`  \n",
    "`f(x) = x**2`  \n",
    "`f(x) = x**0.5`  \n",
    "\n",
    "In your code solution, you should show the R-squared value on your training data for a simple linear regression after using each of these non-linear transformations, as well as the residual plot for the one function you have selected. Using these sources of evidence, explain why you made your selection between the 4 transformations."
   ]
  },
  {
   "cell_type": "code",
   "execution_count": 53,
   "metadata": {},
   "outputs": [
    {
     "name": "stdout",
     "output_type": "stream",
     "text": [
      "R squared value of ln(x)= 0.3481836559230782\n",
      "R squared value of exp(x)= 0.9020636230233146\n",
      "R squared value of x^2= 0.8078331499104046\n",
      "R squared value of x^0.5= 0.5345538793827771\n"
     ]
    },
    {
     "data": {
      "text/plain": [
       "Text(0, 0.5, 'y_train2_rss')"
      ]
     },
     "execution_count": 53,
     "metadata": {},
     "output_type": "execute_result"
    },
    {
     "data": {
      "image/png": "[encoded data removed]",
      "text/plain": [
       "<Figure size 432x288 with 1 Axes>"
      ]
     },
     "metadata": {
      "needs_background": "light"
     },
     "output_type": "display_data"
    }
   ],
   "source": [
    "# Part 4 Solution\n",
    "\n",
    "# --- write code here ---\n",
    "# y = B_1 * x_1 + B_2 * f(x_2) + error\n",
    "regr=LinearRegression()\n",
    "\n",
    "def fitandscore(x):\n",
    "    fit=regr.fit(x,y_train)\n",
    "    score=fit.score(x,y_train)\n",
    "    return(score)\n",
    "\n",
    "lnx2= np.copy(x_train)\n",
    "lnx2[:,1] = np.log(lnx2[:,1])\n",
    "lnscore=fitandscore(lnx2)\n",
    "print(\"R squared value of ln(x)= {}\".format(lnscore))\n",
    "\n",
    "\n",
    "expx2= np.copy(x_train)\n",
    "expx2[:,1] = (np.exp(expx2[:,1]))\n",
    "expscore=fitandscore(expx2)\n",
    "print(\"R squared value of exp(x)= {}\".format(expscore))\n",
    "\n",
    "\n",
    "squaredx2= np.copy(x_train)\n",
    "squaredx2[:,1] = (squaredx2[:,1]**2)\n",
    "sqscore = fitandscore(squaredx2)\n",
    "print(\"R squared value of x^2= {}\".format(sqscore))\n",
    "\n",
    "rootx2=np.copy(x_train)\n",
    "rootx2[:,1] = (rootx2[:,1]**0.5)\n",
    "rootscore=fitandscore(rootx2)\n",
    "print(\"R squared value of x^0.5= {}\".format(rootscore))\n",
    "\n",
    "\n",
    "#residual plot for selected (highest r2 value)\n",
    "#f()=exp(x) has highest R-squared value of 0.9\n",
    "lr_exp = LinearRegression()\n",
    "lr_exp = lr_exp.fit(expx2,y_train)\n",
    "y_train_res2 = np.abs(y_train - lr_exp.predict(expx2))\n",
    "plt.scatter(expx2[:,1],y_train_res2)\n",
    "plt.xlabel(\"x_2\")\n",
    "plt.ylabel('y_train2_rss')\n",
    "\n",
    "# --- written response here ---\n",
    "# Because the exponential transformation had the highest R-squared value I chose to use it for the new model. \n",
    "# "
   ]
  },
  {
   "cell_type": "markdown",
   "metadata": {},
   "source": [
    "**Part 5** (10 points)  \n",
    "Evaluate the R-squared values on `x_val` and `y_val` for both the original linear model in part 1 and the selected model in part 4. Describe how and why these results differ from the evaluation results in part 1 and part 4. \n",
    "\n",
    "Note: Make sure that whatever transformation you apply to the training data in part 4 is also applied to the validation data before evaluating the linear regression model. These models should be trained using only the training data, and then evaluated using only the validation data."
   ]
  },
  {
   "cell_type": "code",
   "execution_count": 54,
   "metadata": {},
   "outputs": [
    {
     "name": "stdout",
     "output_type": "stream",
     "text": [
      "0.5911214689958622\n",
      "0.8323371024157278\n"
     ]
    }
   ],
   "source": [
    "# Part 5 Solution\n",
    "\n",
    "# --- write code here ---\n",
    "#original model:\n",
    "lr1 = LinearRegression()\n",
    "lr1 = lr1.fit(x_val,y_val)\n",
    "print(lr1.score(x_val,y_val))\n",
    "\n",
    "#fit using training values (new exp model)\n",
    "lr4 = LinearRegression()\n",
    "lr4 = lr4.fit(expx2,y_train) #train using training data\n",
    "#score using validation data\n",
    "exp_x_val=np.copy(x_val)\n",
    "exp_x_val[:,1]= np.exp(exp_x_val[:,1])\n",
    "print(lr4.score(exp_x_val,y_val))\n",
    "# --- written response here ---\n",
    "# These results differ from those we got in part 1 and 4 because we are testing our model on different data than what we\n",
    "# trained it with. \n",
    "# The precise differences for the original model are R-squared=0.66 on training and =0.59 on validation data\n",
    "# For the exponential model: R-squared=0.9 on training and =0.83 on validation (test) data. "
   ]
  },
  {
   "cell_type": "markdown",
   "metadata": {},
   "source": [
    "**Part 6** (18 points)\n",
    "Make a new residual plot using `x_1` (i.e. `x_train[:, 0]`) with your selected model from part 4. What does this imply about the assumptions in our regression model? Write and describe the equation for a conditional model similar to your colleagues that adjusts for this new finding."
   ]
  },
  {
   "cell_type": "code",
   "execution_count": 55,
   "metadata": {},
   "outputs": [
    {
     "data": {
      "text/plain": [
       "<matplotlib.collections.PathCollection at 0x29d299437f0>"
      ]
     },
     "execution_count": 55,
     "metadata": {},
     "output_type": "execute_result"
    },
    {
     "data": {
      "image/png": "[encoded data removed]",
      "text/plain": [
       "<Figure size 432x288 with 1 Axes>"
      ]
     },
     "metadata": {
      "needs_background": "light"
     },
     "output_type": "display_data"
    }
   ],
   "source": [
    "# Part 6 Solution\n",
    "\n",
    "# --- write code here ---\n",
    "exp_res = np.abs(y_train - lr4.predict(expx2))\n",
    "plt.scatter(x_train[:,0],exp_res)\n",
    "\n",
    "\n",
    "# --- written response here ---\n",
    "# The plot shows that x_1 and the residual errors are not ideal because even though we transformed x_2 to improve the model, \n",
    "# we may also need to transform x_1 using a non-linear function as well since the plot is non-linear.\n",
    "# A new equation we could try would involve transforming x_1 as well as x_2:\n",
    "# y = B_1 * g(x_1) + B_2 * f(x_2) + error\n",
    "# where y is the outcome, B_1 and B_2 are parameters of the DGP, x_1 and x_2 are the first and second column of the dataset,\n",
    "#f() is some non-linear function,\n",
    "#g() is also some non-linear function, \n",
    "#and error is some random variable with 0 mean and constant variance."
   ]
  },
  {
   "cell_type": "code",
   "execution_count": null,
   "metadata": {},
   "outputs": [],
   "source": []
  }
 ],
 "metadata": {
  "kernelspec": {
   "display_name": "Python 3",
   "language": "python",
   "name": "python3"
  },
  "language_info": {
   "codemirror_mode": {
    "name": "ipython",
    "version": 3
   },
   "file_extension": ".py",
   "mimetype": "text/x-python",
   "name": "python",
   "nbconvert_exporter": "python",
   "pygments_lexer": "ipython3",
   "version": "3.7.2"
  }
 },
 "nbformat": 4,
 "nbformat_minor": 2
}
