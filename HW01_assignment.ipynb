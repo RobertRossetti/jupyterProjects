{
 "cells": [
  {
   "cell_type": "markdown",
   "metadata": {},
   "source": [
    "** Description ** - This assignment is intended to teach you about data processing using python, reporting descriptive statistics on a variety of data types, and thinking critically about common data processing challenges."
   ]
  },
  {
   "cell_type": "markdown",
   "metadata": {},
   "source": [
    "**Getting Started** - You should complete the assignment using your own installation of Python 3 and the packages numpy and pandas. Download the assignment from Moodle and unzip the file. This will create a directory with this file, 'HW01.ipynb', and a 'data' directory. The data files for each data set are in the 'data' directory."
   ]
  },
  {
   "cell_type": "markdown",
   "metadata": {},
   "source": [
    "** Deliverables ** - The assignment has two deliverables: a report and a jupyter notebook code file. You will submit both of these files together in a single compressed folder on Moodle.\n",
    "\n",
    "- ** Report ** -  The solution report will give your answers to the homework questions (listed below). You can use any software to create your report, but your report _must_ be submitted as a .pdf file.\n",
    "- ** Code ** - In order to submit the coding component of this assignment, first complete every coding assignment in this document by writing code in the sections labeled  --- write code here ---. After completing the coding problems save a copy of this file and submit it along with your report. This code should be written in a clean and organized fashion, and should be able to be run by the instructor and the TA by executing each code cell in order from top to bottom. It is strongly suggested that you reset the notebook and execute every cell in order before submitting."
   ]
  },
  {
   "cell_type": "markdown",
   "metadata": {},
   "source": [
    "**Data Sets** - In this assignment, you will conduct a descriptive statistical analysis on 5 data files in the 'data' folder. The first dataset, 'census.csv', contains annonymized US census records. The remaining datasets contain samples from common univariate distributions."
   ]
  },
  {
   "cell_type": "markdown",
   "metadata": {},
   "source": [
    "**Academic Honesty Statement** — Copying solutions from external sources (books,\n",
    "web pages, etc.) or other students is considered cheating. Sharing your solutions with\n",
    "other students is considered cheating. Posting your code to public repositories such as\n",
    "GitHub is also considered cheating. Any detected cheating will result in a grade of 0 on\n",
    "the assignment for all students involved, and potentially a grade of F in the course.\n",
    "\n",
    "This academic honesty statement does not restrict you from reading official documentation or using other web resources for understanding the syntax of python, related data science libraries, or properties of distributions."
   ]
  },
  {
   "cell_type": "code",
   "execution_count": 2,
   "metadata": {},
   "outputs": [],
   "source": [
    "# Do not import any other libraries other than those listed here. \n",
    "\n",
    "import numpy as np\n",
    "import pandas as pd"
   ]
  },
  {
   "cell_type": "markdown",
   "metadata": {},
   "source": [
    "# Problem 1 - US Census Data"
   ]
  },
  {
   "cell_type": "markdown",
   "metadata": {},
   "source": [
    "In this problem you'll analyze a sample of publically released US Census data."
   ]
  },
  {
   "cell_type": "markdown",
   "metadata": {},
   "source": [
    "**Part 1** (3 points)  \n",
    "Load the census.csv file into a pandas dataframe object. Once loaded, print the first 5 rows of the dataframe. See https://pandas.pydata.org/pandas-docs/version/0.21/generated/pandas.DataFrame.html for documentation on pandas dataframes. "
   ]
  },
  {
   "cell_type": "code",
   "execution_count": 3,
   "metadata": {},
   "outputs": [
    {
     "data": {
      "text/html": [
       "<div>\n",
       "<style scoped>\n",
       "    .dataframe tbody tr th:only-of-type {\n",
       "        vertical-align: middle;\n",
       "    }\n",
       "\n",
       "    .dataframe tbody tr th {\n",
       "        vertical-align: top;\n",
       "    }\n",
       "\n",
       "    .dataframe thead th {\n",
       "        text-align: right;\n",
       "    }\n",
       "</style>\n",
       "<table border=\"1\" class=\"dataframe\">\n",
       "  <thead>\n",
       "    <tr style=\"text-align: right;\">\n",
       "      <th></th>\n",
       "      <th>Age</th>\n",
       "      <th>Workclass</th>\n",
       "      <th>Education</th>\n",
       "      <th>Marital Status</th>\n",
       "      <th>Occupation</th>\n",
       "      <th>Relationship</th>\n",
       "      <th>Capital-Gain</th>\n",
       "      <th>Capital-Loss</th>\n",
       "      <th>Hours-Per-Week</th>\n",
       "      <th>Country-of-Origin</th>\n",
       "      <th>Annual Income</th>\n",
       "    </tr>\n",
       "  </thead>\n",
       "  <tbody>\n",
       "    <tr>\n",
       "      <th>0</th>\n",
       "      <td>39</td>\n",
       "      <td>State-gov</td>\n",
       "      <td>Bachelors</td>\n",
       "      <td>Never-married</td>\n",
       "      <td>Adm-clerical</td>\n",
       "      <td>Not-in-family</td>\n",
       "      <td>2174</td>\n",
       "      <td>0</td>\n",
       "      <td>40</td>\n",
       "      <td>United-States</td>\n",
       "      <td>&lt;=50K</td>\n",
       "    </tr>\n",
       "    <tr>\n",
       "      <th>1</th>\n",
       "      <td>50</td>\n",
       "      <td>Self-emp-not-inc</td>\n",
       "      <td>Bachelors</td>\n",
       "      <td>Married-civ-spouse</td>\n",
       "      <td>Exec-managerial</td>\n",
       "      <td>Husband</td>\n",
       "      <td>0</td>\n",
       "      <td>0</td>\n",
       "      <td>13</td>\n",
       "      <td>United-States</td>\n",
       "      <td>&lt;=50K</td>\n",
       "    </tr>\n",
       "    <tr>\n",
       "      <th>2</th>\n",
       "      <td>38</td>\n",
       "      <td>Private</td>\n",
       "      <td>HS-grad</td>\n",
       "      <td>Divorced</td>\n",
       "      <td>Handlers-cleaners</td>\n",
       "      <td>Not-in-family</td>\n",
       "      <td>0</td>\n",
       "      <td>0</td>\n",
       "      <td>40</td>\n",
       "      <td>United-States</td>\n",
       "      <td>&lt;=50K</td>\n",
       "    </tr>\n",
       "    <tr>\n",
       "      <th>3</th>\n",
       "      <td>53</td>\n",
       "      <td>Private</td>\n",
       "      <td>11th</td>\n",
       "      <td>Married-civ-spouse</td>\n",
       "      <td>Handlers-cleaners</td>\n",
       "      <td>Husband</td>\n",
       "      <td>0</td>\n",
       "      <td>0</td>\n",
       "      <td>40</td>\n",
       "      <td>United-States</td>\n",
       "      <td>&lt;=50K</td>\n",
       "    </tr>\n",
       "    <tr>\n",
       "      <th>4</th>\n",
       "      <td>28</td>\n",
       "      <td>Private</td>\n",
       "      <td>Bachelors</td>\n",
       "      <td>Married-civ-spouse</td>\n",
       "      <td>Prof-specialty</td>\n",
       "      <td>Wife</td>\n",
       "      <td>0</td>\n",
       "      <td>0</td>\n",
       "      <td>40</td>\n",
       "      <td>Cuba</td>\n",
       "      <td>&lt;=50K</td>\n",
       "    </tr>\n",
       "  </tbody>\n",
       "</table>\n",
       "</div>"
      ],
      "text/plain": [
       "   Age          Workclass   Education       Marital Status  \\\n",
       "0   39          State-gov   Bachelors        Never-married   \n",
       "1   50   Self-emp-not-inc   Bachelors   Married-civ-spouse   \n",
       "2   38            Private     HS-grad             Divorced   \n",
       "3   53            Private        11th   Married-civ-spouse   \n",
       "4   28            Private   Bachelors   Married-civ-spouse   \n",
       "\n",
       "           Occupation    Relationship  Capital-Gain  Capital-Loss  \\\n",
       "0        Adm-clerical   Not-in-family          2174             0   \n",
       "1     Exec-managerial         Husband             0             0   \n",
       "2   Handlers-cleaners   Not-in-family             0             0   \n",
       "3   Handlers-cleaners         Husband             0             0   \n",
       "4      Prof-specialty            Wife             0             0   \n",
       "\n",
       "   Hours-Per-Week Country-of-Origin Annual Income  \n",
       "0              40     United-States         <=50K  \n",
       "1              13     United-States         <=50K  \n",
       "2              40     United-States         <=50K  \n",
       "3              40     United-States         <=50K  \n",
       "4              40              Cuba         <=50K  "
      ]
     },
     "execution_count": 3,
     "metadata": {},
     "output_type": "execute_result"
    }
   ],
   "source": [
    "# Part 1 Solution\n",
    "\n",
    "# --- write code here ---\n",
    "#Robert Rossetti\n",
    "foo=pd.read_csv('data/census.csv')\n",
    "df=pd.DataFrame(data=foo)\n",
    "df.iloc[0:5]\n",
    "\n",
    "\n",
    "\n",
    "\n"
   ]
  },
  {
   "cell_type": "markdown",
   "metadata": {},
   "source": [
    "** Part 2** (11 points)  \n",
    "For each variable (column), describe its statistical type from the following list:  \n",
    "\n",
    "- Nominal\n",
    "- Ordinal  \n",
    "- Interval \n",
    "- Ratio scale\n",
    "\n",
    "Justify your decision in a single sentence for each variable."
   ]
  },
  {
   "cell_type": "markdown",
   "metadata": {},
   "source": [
    "** Part 3** (11 points)\n",
    "How might pandas datatypes such as int, float, string, etc. help determine a variable's statistical type? Are there any circumstances where using pandas datatypes would be misleading?"
   ]
  },
  {
   "cell_type": "markdown",
   "metadata": {},
   "source": [
    "** Part 4** (24 points)  \n",
    "Add a new column to the dataframe, 'College-Degree'. For each person in the census, assign a value of 1 to this column if they have completed an Associates, Bachelors, Masters, or Doctorate degree and a value of 0 otherwise. \n",
    "\n",
    "Is the average income for a person with a college degree greater than the average income for a person without a college degree? Is it possible to answer this question given the available data? If not, propose a variant of the question that can be answered and answer it.\n",
    "\n",
    "Hint: You may find it helpful to convert the 'Annual Income' column into numeric values. String matching in pandas is case sensitive, and can easily result in errors due to unanticipated string characters such as hyphens, underscores, and spaces."
   ]
  },
  {
   "cell_type": "code",
   "execution_count": 5,
   "metadata": {},
   "outputs": [
    {
     "name": "stdout",
     "output_type": "stream",
     "text": [
      "Percentage of people with a college degree who make >50k= 41.3682092555332%\n",
      "Percentage of people with NO college degree who make >50k= 16.484682374784494%\n"
     ]
    }
   ],
   "source": [
    "# Part 4 Solution\n",
    "\n",
    "# --- write code here ---\n",
    "#check if college-degree column already inserted\n",
    "col3=list(df.columns.values)[3]\n",
    "if(col3!=\"College-Degree\"):\n",
    "    #print(\"Inserting college-degree column\")\n",
    "    df.insert(3,\"College-Degree\",\"0\")\n",
    "\n",
    "for rowindex in range(len(df.index)):\n",
    "    ed=df.at[rowindex,\"Education\"].strip()\n",
    "    if(ed==\"Assoc-voc\" or ed==\"Assoc-acdm\" or ed==\"Bachelors\" or\n",
    "      ed==\"Masters\" or ed==\"Doctorate\"):\n",
    "        df.at[rowindex,\"College-Degree\"]=1\n",
    "\n",
    "#compute percent of degree holders making >50k versus those without\n",
    "cdtotal=0\n",
    "nocdtotal=0\n",
    "cdMoreThan50k=0\n",
    "nocdMoreThan50k=0\n",
    "for i in range(len(df.index)):\n",
    "    if(df.at[i,\"College-Degree\"]==1):\n",
    "        cdtotal+=1\n",
    "        income=df.at[i,\"Annual Income\"].strip()\n",
    "        if(income[0]=='>'):\n",
    "            cdMoreThan50k+=1\n",
    "    else:\n",
    "        nocdtotal+=1\n",
    "        income=df.at[i,\"Annual Income\"].strip()\n",
    "        if(income[0]=='>'):\n",
    "            nocdMoreThan50k+=1\n",
    "cd50kp=cdMoreThan50k/cdtotal\n",
    "nocd50kp=nocdMoreThan50k/nocdtotal\n",
    "print(\"Percentage of people with a college degree who make >50k= \"+str(cd50kp*100)+\"%\")\n",
    "print(\"Percentage of people with NO college degree who make >50k= \"+str(nocd50kp*100)+\"%\")\n",
    "#print(\"Therefore, having a college degree increases likelihood of making >50k by \"+str(cd50kp/nocd50kp))"
   ]
  },
  {
   "cell_type": "markdown",
   "metadata": {},
   "source": [
    "** Part 5** (24 points)    \n",
    "Like many real-world datasets, the census dataset contains several missing records. For this assignment we'll focus on missing records for the 'Occupation' and 'Country-of-Origin' variables.\n",
    "\n",
    "Construct a new dataframe which is a copy of the census dataframe, removing any rows where the 'Occupation' variable is missing. Compare the average 'Capital-Gain' and 'Capital-Loss' between the original and the filtered data frames. Repeat this procedure, instead removing any rows where the 'Country-of-Origin' variable is missing.\n",
    "\n",
    "How do our estimates of average 'Capital-Gain' and 'Capital-Loss' change when we omit the rows with missing 'Occupation' and 'Country-of-Origin' variables? Provide a plausible explanation for why filtering using different variables produces different results. Is this approach to handling missing data justified? Why or why not? If not, describe an alternative procedure for handling missing data."
   ]
  },
  {
   "cell_type": "code",
   "execution_count": null,
   "metadata": {
    "scrolled": true
   },
   "outputs": [
    {
     "name": "stdout",
     "output_type": "stream",
     "text": [
      "Number of rows dropped=1843\n",
      "Number of rows dropped=583\n",
      "Average capital gain/loss BEFORE filtering:\n",
      "\tAverage capital gain=1077.6488437087312\n",
      "\tAverage capital loss=87.303829734959\n",
      "AVerage capital gain/loss AFTER filtering rows with no occupation:\n",
      "\tAverage capital gain=1106.0370792369295\n",
      "\tAverage capital loss=88.91021550882219\n",
      "AVerage capital gain/loss AFTER filtering rows with no country of origin:\n",
      "\tAverage capital gain=1064.3606229282632\n",
      "\tAverage capital loss=86.73935205453749\n"
     ]
    }
   ],
   "source": [
    "# Part 5 Solution\n",
    "\n",
    "# --- write code here ---\n",
    "df2=df.copy(deep=True) #for filtering occupation\n",
    "df3=df.copy(deep=True) #for filtering country of origin\n",
    "#drop rows where occupation is \"?\"\n",
    "def filterMissingData(data,colName):\n",
    "    for i in range(data.shape[0]):\n",
    "        colVal=(data.at[i,colName]).strip()\n",
    "        if(colVal=='?'):\n",
    "            data=data.drop([i])\n",
    "    print(\"Number of rows dropped=\"+str(df.shape[0]-data.shape[0]))\n",
    "    return data\n",
    "df2=filterMissingData(df,\"Occupation\")\n",
    "df3=filterMissingData(df,\"Country-of-Origin\")\n",
    "def computeGainLossAverage(data):\n",
    "    data.reset_index(drop=True, inplace=True)\n",
    "    #print(\"Size of input data \"+str(data.shape[0]))\n",
    "    total=data.shape[0]\n",
    "    gainTotal=0\n",
    "    lossTotal=0\n",
    "    for i in range(data.shape[0]):\n",
    "        gainTotal+=data.at[i,\"Capital-Gain\"]\n",
    "        lossTotal+=data.at[i,\"Capital-Loss\"]\n",
    "    print(\"\\tAverage capital gain=\"+str(gainTotal/total))\n",
    "    print(\"\\tAverage capital loss=\"+str(lossTotal/total))\n",
    "print(\"Average capital gain/loss BEFORE filtering:\")\n",
    "computeGainLossAverage(df)\n",
    "print(\"AVerage capital gain/loss AFTER filtering rows with no occupation:\")\n",
    "computeGainLossAverage(df2)\n",
    "print(\"AVerage capital gain/loss AFTER filtering rows with no country of origin:\")\n",
    "computeGainLossAverage(df3)\n",
    "\n",
    "\n"
   ]
  },
  {
   "cell_type": "markdown",
   "metadata": {},
   "source": [
    "# Problem 2 - Synthetic Data"
   ]
  },
  {
   "cell_type": "markdown",
   "metadata": {},
   "source": [
    "In this problem you'll be asked to compare samples from the following 4 distributions.\n",
    "\n",
    " - Poisson\n",
    " - Uniform\n",
    " - Normal\n",
    " - Truncated Normal\n",
    "\n",
    "These datasets of samples have been randomly orderred, and are named 'synthetic1.csv', 'synthetic2.csv', etc. in the 'data' directory."
   ]
  },
  {
   "cell_type": "markdown",
   "metadata": {},
   "source": [
    "**Part 1** (3 points)    \n",
    "Load each of the 4 datasets as numpy arrays. See https://docs.scipy.org/doc/numpy/user/index.html for documentation on numpy arrays."
   ]
  },
  {
   "cell_type": "code",
   "execution_count": 6,
   "metadata": {},
   "outputs": [],
   "source": [
    "# Part 1 Solution\n",
    "\n",
    "# --- write code here ---\n",
    "s1 = np.genfromtxt ('data/synthetic1.csv', delimiter=\",\")\n",
    "s2 = np.genfromtxt ('data/synthetic2.csv', delimiter=\",\")\n",
    "s3 = np.genfromtxt ('data/synthetic3.csv', delimiter=\",\")\n",
    "s4 = np.genfromtxt ('data/synthetic4.csv', delimiter=\",\")\n",
    "\n"
   ]
  },
  {
   "cell_type": "markdown",
   "metadata": {},
   "source": [
    "**Part 2**  (24 points)    \n",
    "Match each dataset of samples to the distribution that was used to generate it **without using any visualization tools such as matplotlib**. Visualization is an important method in data science, but will be covered in future homeworks. \n",
    "\n",
    "Describe your findings in the report, including a 1-2 sentence justification for each dataset."
   ]
  },
  {
   "cell_type": "code",
   "execution_count": 10,
   "metadata": {},
   "outputs": [
    {
     "name": "stdout",
     "output_type": "stream",
     "text": [
      "Synthetic 1: \n",
      "\tmin=-4.45563583217179, max=4.538328377489084\n",
      "\tmean=-0.001036969451549452\n",
      "\tstandard deviation=1.0267256955498782\n",
      "\tvar=1.0132747384346845\n",
      "Synthetic 2: \n",
      "\tmin=-2.9944118022511796, max=2.998579407072315\n",
      "\tmean=0.0028225889165691947\n",
      "\tstandard deviation=0.9314291808291286\n",
      "\tvar=0.9651057873772847\n",
      "Synthetic 3: \n",
      "\tmin=0.0, max=8.0\n",
      "\tmean=1.00173\n",
      "\tstandard deviation=0.9931457996417609\n",
      "\tvar=0.9965670071007573\n",
      "Synthetic 4: \n",
      "\tmin=-2.9999504172128457, max=2.999928696273451\n",
      "\tmean=0.003365529982741416\n",
      "\tstandard deviation=8.964476436098694\n",
      "\tvar=2.9940735522192328\n"
     ]
    }
   ],
   "source": [
    "# Part 2 Solution\n",
    "\n",
    "# --- write code here ---\n",
    "import sys\n",
    "import math\n",
    "def stats(s):\n",
    "    mini=float(\"inf\")\n",
    "    maxi=float(\"-inf\")\n",
    "    mean=0\n",
    "    dev=0\n",
    "    var=0\n",
    "    for x in s:\n",
    "        mean+=x\n",
    "        if(x>maxi):\n",
    "            maxi=x\n",
    "        if(x<mini):\n",
    "            mini=x\n",
    "    n=len(s)\n",
    "    mean=mean/n\n",
    "    sumsq=0\n",
    "    for x in s:\n",
    "        sumsq+=math.pow(x-mean,2)\n",
    "    var=sumsq/n\n",
    "    dev=math.pow(var,2)\n",
    "    print(\"\\tmin={}, max={}\".format(mini,maxi))\n",
    "    print(\"\\tmean=\"+str(mean))\n",
    "    print(\"\\tstandard deviation=\"+str(dev))\n",
    "    print(\"\\tvar=\"+str(var))\n",
    "    return \n",
    "\n",
    "print(\"Synthetic 1: \")\n",
    "stats(s1)\n",
    "print(\"Synthetic 2: \")\n",
    "stats(s2)\n",
    "print(\"Synthetic 3: \")\n",
    "stats(s3)\n",
    "print(\"Synthetic 4: \")\n",
    "stats(s4)"
   ]
  },
  {
   "cell_type": "code",
   "execution_count": null,
   "metadata": {},
   "outputs": [],
   "source": []
  }
 ],
 "metadata": {
  "kernelspec": {
   "display_name": "Python 3",
   "language": "python",
   "name": "python3"
  },
  "language_info": {
   "codemirror_mode": {
    "name": "ipython",
    "version": 3
   },
   "file_extension": ".py",
   "mimetype": "text/x-python",
   "name": "python",
   "nbconvert_exporter": "python",
   "pygments_lexer": "ipython3",
   "version": "3.7.2"
  }
 },
 "nbformat": 4,
 "nbformat_minor": 2
}
